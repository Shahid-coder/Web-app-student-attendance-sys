{
  "cells": [
    {
      "cell_type": "markdown",
      "metadata": {
        "id": "view-in-github",
        "colab_type": "text"
      },
      "source": [
        "<a href=\"https://colab.research.google.com/github/Shahid-coder/Web-app-student-attendance-sys/blob/main/stud_atendnce_sys.ipynb\" target=\"_parent\"><img src=\"https://colab.research.google.com/assets/colab-badge.svg\" alt=\"Open In Colab\"/></a>"
      ]
    },
    {
      "cell_type": "code",
      "execution_count": null,
      "id": "3621f68d-a70c-47cf-b3ee-3dca6d404aab",
      "metadata": {
        "id": "3621f68d-a70c-47cf-b3ee-3dca6d404aab",
        "outputId": "e5861e98-00dd-4570-e47f-b3f814107ea6"
      },
      "outputs": [
        {
          "data": {
            "text/markdown": [
              "# 🏫 Student Attendance System\n",
              "## A Python & SQL Connectivity Project"
            ],
            "text/plain": [
              "<IPython.core.display.Markdown object>"
            ]
          },
          "metadata": {},
          "output_type": "display_data"
        },
        {
          "data": {
            "text/markdown": [
              "**Project By:** John Doe  \n",
              "**Class:** 12  \n",
              "**School:** XYZ Public School  \n",
              "**Subject:** Computer Science"
            ],
            "text/plain": [
              "<IPython.core.display.Markdown object>"
            ]
          },
          "metadata": {},
          "output_type": "display_data"
        }
      ],
      "source": [
        "from IPython.display import display, Markdown\n",
        "\n",
        "title = \"# 🏫 Student Attendance System\\n## A Python & SQL Connectivity Project\"\n",
        "student_details = \"**Project By:** John Doe  \\n**Class:** 12  \\n**School:** XYZ Public School  \\n**Subject:** Computer Science\"\n",
        "\n",
        "display(Markdown(title))\n",
        "display(Markdown(student_details))"
      ]
    },
    {
      "cell_type": "code",
      "execution_count": null,
      "id": "8daa7cbc-3bae-41a9-bc9b-e61cf08ae06e",
      "metadata": {
        "scrolled": true,
        "id": "8daa7cbc-3bae-41a9-bc9b-e61cf08ae06e",
        "outputId": "71366057-daf4-4e5f-cd39-b9ad2f652111"
      },
      "outputs": [
        {
          "data": {
            "text/markdown": [
              "\n",
              "## 📌 Introduction\n",
              "The **Student Attendance System** is a Python-based project that automates attendance management for students.\n",
              "It helps teachers mark, update, and track attendance digitally using a **Graphical User Interface (GUI)** in Jupyter Notebook.\n",
              "\n",
              "## 🎯 Objective\n",
              "- **To implement Python & SQL connectivity.**\n",
              "- **To create an easy-to-use interface using IPyWidgets.**\n",
              "- **To allow CRUD (Create, Read, Update, Delete) operations for student attendance.**\n"
            ],
            "text/plain": [
              "<IPython.core.display.Markdown object>"
            ]
          },
          "metadata": {},
          "output_type": "display_data"
        }
      ],
      "source": [
        "introduction = \"\"\"\n",
        "## 📌 Introduction\n",
        "The **Student Attendance System** is a Python-based project that automates attendance management for students.\n",
        "It helps teachers mark, update, and track attendance digitally using a **Graphical User Interface (GUI)** in Jupyter Notebook.\n",
        "\n",
        "## 🎯 Objective\n",
        "- **To implement Python & SQL connectivity.**\n",
        "- **To create an easy-to-use interface using IPyWidgets.**\n",
        "- **To allow CRUD (Create, Read, Update, Delete) operations for student attendance.**\n",
        "\"\"\"\n",
        "\n",
        "display(Markdown(introduction))\n"
      ]
    },
    {
      "cell_type": "code",
      "execution_count": null,
      "id": "0c00ccc0-e4d9-4fe0-aa14-9f81a594e0f1",
      "metadata": {
        "jupyter": {
          "source_hidden": true
        },
        "scrolled": true,
        "id": "0c00ccc0-e4d9-4fe0-aa14-9f81a594e0f1",
        "outputId": "b75c1e98-332d-44dd-8112-1317e58edb36"
      },
      "outputs": [
        {
          "name": "stdout",
          "output_type": "stream",
          "text": [
            "Collecting mysql-connector-python\n",
            "  Downloading mysql_connector_python-9.2.0-py2.py3-none-any.whl.metadata (6.0 kB)\n",
            "Requirement already satisfied: ipywidgets in /data/data/com.termux/files/usr/lib/python3.12/site-packages (8.1.5)\n",
            "Requirement already satisfied: comm>=0.1.3 in /data/data/com.termux/files/usr/lib/python3.12/site-packages (from ipywidgets) (0.2.2)\n",
            "Requirement already satisfied: ipython>=6.1.0 in /data/data/com.termux/files/usr/lib/python3.12/site-packages (from ipywidgets) (8.32.0)\n",
            "Requirement already satisfied: traitlets>=4.3.1 in /data/data/com.termux/files/usr/lib/python3.12/site-packages (from ipywidgets) (5.14.3)\n",
            "Requirement already satisfied: widgetsnbextension~=4.0.12 in /data/data/com.termux/files/usr/lib/python3.12/site-packages (from ipywidgets) (4.0.13)\n",
            "Requirement already satisfied: jupyterlab-widgets~=3.0.12 in /data/data/com.termux/files/usr/lib/python3.12/site-packages (from ipywidgets) (3.0.13)\n",
            "Requirement already satisfied: decorator in /data/data/com.termux/files/usr/lib/python3.12/site-packages (from ipython>=6.1.0->ipywidgets) (5.1.1)\n",
            "Requirement already satisfied: jedi>=0.16 in /data/data/com.termux/files/usr/lib/python3.12/site-packages (from ipython>=6.1.0->ipywidgets) (0.19.2)\n",
            "Requirement already satisfied: matplotlib-inline in /data/data/com.termux/files/usr/lib/python3.12/site-packages (from ipython>=6.1.0->ipywidgets) (0.1.7)\n",
            "Requirement already satisfied: pexpect>4.3 in /data/data/com.termux/files/usr/lib/python3.12/site-packages (from ipython>=6.1.0->ipywidgets) (4.9.0)\n",
            "Requirement already satisfied: prompt_toolkit<3.1.0,>=3.0.41 in /data/data/com.termux/files/usr/lib/python3.12/site-packages (from ipython>=6.1.0->ipywidgets) (3.0.50)\n",
            "Requirement already satisfied: pygments>=2.4.0 in /data/data/com.termux/files/usr/lib/python3.12/site-packages (from ipython>=6.1.0->ipywidgets) (2.19.1)\n",
            "Requirement already satisfied: stack_data in /data/data/com.termux/files/usr/lib/python3.12/site-packages (from ipython>=6.1.0->ipywidgets) (0.6.3)\n",
            "Requirement already satisfied: parso<0.9.0,>=0.8.4 in /data/data/com.termux/files/usr/lib/python3.12/site-packages (from jedi>=0.16->ipython>=6.1.0->ipywidgets) (0.8.4)\n",
            "Requirement already satisfied: ptyprocess>=0.5 in /data/data/com.termux/files/usr/lib/python3.12/site-packages (from pexpect>4.3->ipython>=6.1.0->ipywidgets) (0.7.0)\n",
            "Requirement already satisfied: wcwidth in /data/data/com.termux/files/usr/lib/python3.12/site-packages (from prompt_toolkit<3.1.0,>=3.0.41->ipython>=6.1.0->ipywidgets) (0.2.13)\n",
            "Requirement already satisfied: executing>=1.2.0 in /data/data/com.termux/files/usr/lib/python3.12/site-packages (from stack_data->ipython>=6.1.0->ipywidgets) (2.2.0)\n",
            "Requirement already satisfied: asttokens>=2.1.0 in /data/data/com.termux/files/usr/lib/python3.12/site-packages (from stack_data->ipython>=6.1.0->ipywidgets) (3.0.0)\n",
            "Requirement already satisfied: pure-eval in /data/data/com.termux/files/usr/lib/python3.12/site-packages (from stack_data->ipython>=6.1.0->ipywidgets) (0.2.3)\n",
            "Downloading mysql_connector_python-9.2.0-py2.py3-none-any.whl (398 kB)\n",
            "Installing collected packages: mysql-connector-python\n",
            "Successfully installed mysql-connector-python-9.2.0\n",
            "Note: you may need to restart the kernel to use updated packages.\n"
          ]
        }
      ],
      "source": [
        "pip install mysql-connector-python ipywidgets\n"
      ]
    },
    {
      "cell_type": "code",
      "execution_count": null,
      "id": "e91d9749-2f94-4003-bd22-96021aeb4f37",
      "metadata": {
        "id": "e91d9749-2f94-4003-bd22-96021aeb4f37",
        "outputId": "69fe3baf-b55a-4350-97f7-b6de432ed45a"
      },
      "outputs": [
        {
          "data": {
            "text/markdown": [
              "✅ **Database Connection Successful!**"
            ],
            "text/plain": [
              "<IPython.core.display.Markdown object>"
            ]
          },
          "metadata": {},
          "output_type": "display_data"
        }
      ],
      "source": [
        "import mysql.connector\n",
        "\n",
        "conn = mysql.connector.connect(host=\"127.0.0.1\", user=\"root\", password=\"shahid\", database=\"student_attendance_db\")\n",
        "cursor = conn.cursor()\n",
        "\n",
        "display(Markdown(\"✅ **Database Connection Successful!**\"))\n"
      ]
    },
    {
      "cell_type": "code",
      "execution_count": null,
      "id": "6fcb1e18-dd00-4871-b22a-fe9afb3fa52a",
      "metadata": {
        "jupyter": {
          "source_hidden": true
        },
        "id": "6fcb1e18-dd00-4871-b22a-fe9afb3fa52a",
        "outputId": "de3b3a91-0819-4692-f9fa-70f1093994bf"
      },
      "outputs": [
        {
          "data": {
            "text/markdown": [
              "✅ **Database and Tables Created Successfully!**"
            ],
            "text/plain": [
              "<IPython.core.display.Markdown object>"
            ]
          },
          "metadata": {},
          "output_type": "display_data"
        }
      ],
      "source": [
        "import mysql.connector\n",
        "\n",
        "conn = mysql.connector.connect(host=\"127.0.0.1\", user=\"root\", password=\"shahid\")\n",
        "cursor = conn.cursor()\n",
        "\n",
        "cursor.execute(\"CREATE DATABASE IF NOT EXISTS student_attendance_db\")\n",
        "conn.database = \"student_attendance_db\"\n",
        "\n",
        "cursor.execute(\"\"\"\n",
        "    CREATE TABLE IF NOT EXISTS students (\n",
        "        roll_number INT PRIMARY KEY,\n",
        "        name VARCHAR(100) NOT NULL,\n",
        "        class VARCHAR(20) NOT NULL\n",
        "    )\n",
        "\"\"\")\n",
        "\n",
        "cursor.execute(\"\"\"\n",
        "    CREATE TABLE IF NOT EXISTS attendance (\n",
        "        id INT AUTO_INCREMENT PRIMARY KEY,\n",
        "        roll_number INT,\n",
        "        date DATE NOT NULL,\n",
        "        status ENUM('Present', 'Absent') NOT NULL,\n",
        "        FOREIGN KEY (roll_number) REFERENCES students(roll_number) ON DELETE CASCADE\n",
        "    )\n",
        "\"\"\")\n",
        "\n",
        "display(Markdown(\"✅ **Database and Tables Created Successfully!**\"))\n",
        "\n",
        "cursor.close()\n",
        "conn.close()\n"
      ]
    },
    {
      "cell_type": "code",
      "execution_count": null,
      "id": "c795fcfb-7864-481b-8499-a3a3404be1fc",
      "metadata": {
        "id": "c795fcfb-7864-481b-8499-a3a3404be1fc",
        "outputId": "baf63b05-b170-4914-9c71-fbdc10475cc8",
        "colab": {
          "referenced_widgets": [
            "8378d34ca9054e2fa74e6aa663f6b67c"
          ]
        }
      },
      "outputs": [
        {
          "data": {
            "application/vnd.jupyter.widget-view+json": {
              "model_id": "8378d34ca9054e2fa74e6aa663f6b67c",
              "version_major": 2,
              "version_minor": 0
            },
            "text/plain": [
              "Output()"
            ]
          },
          "metadata": {},
          "output_type": "display_data"
        }
      ],
      "source": [
        "add_student_output = widgets.Output()\n",
        "\n",
        "def show_add_student_page():\n",
        "    with add_student_output:\n",
        "        clear_output()\n",
        "\n",
        "        roll_input = widgets.IntText(placeholder=\"Enter Roll Number\")\n",
        "        name_input = widgets.Text(placeholder=\"Enter Student Name\")\n",
        "        class_input = widgets.Text(placeholder=\"Enter Class\")\n",
        "        submit_button = widgets.Button(description=\"Add Student\")\n",
        "\n",
        "        def add_student(b):\n",
        "            query = \"INSERT INTO students (roll_number, name, class) VALUES (%s, %s, %s)\"\n",
        "            cursor.execute(query, (roll_input.value, name_input.value, class_input.value))\n",
        "            conn.commit()\n",
        "            with add_student_output:\n",
        "                clear_output()\n",
        "                display(widgets.Label(\"✅ Student Added Successfully!\"))\n",
        "\n",
        "        submit_button.on_click(add_student)\n",
        "        display(roll_input, name_input, class_input, submit_button)\n",
        "\n",
        "display(add_student_output)\n"
      ]
    },
    {
      "cell_type": "code",
      "execution_count": null,
      "id": "bdacb3d4-3c2b-43d5-8767-6e3b0a8b6167",
      "metadata": {
        "id": "bdacb3d4-3c2b-43d5-8767-6e3b0a8b6167",
        "outputId": "8757f6be-d16c-4c81-87d6-b544cb0a4242",
        "colab": {
          "referenced_widgets": [
            "ffb7eecc266049ee95797b99259ecf19"
          ]
        }
      },
      "outputs": [
        {
          "data": {
            "application/vnd.jupyter.widget-view+json": {
              "model_id": "ffb7eecc266049ee95797b99259ecf19",
              "version_major": 2,
              "version_minor": 0
            },
            "text/plain": [
              "Output()"
            ]
          },
          "metadata": {},
          "output_type": "display_data"
        }
      ],
      "source": [
        "mark_attendance_output = widgets.Output()\n",
        "\n",
        "def show_mark_attendance_page():\n",
        "    with mark_attendance_output:\n",
        "        clear_output()\n",
        "\n",
        "        roll_input = widgets.IntText(placeholder=\"Enter Roll Number\")\n",
        "        status_dropdown = widgets.Dropdown(options=[\"Present\", \"Absent\"], description=\"Status:\")\n",
        "        submit_button = widgets.Button(description=\"Mark Attendance\")\n",
        "\n",
        "        def mark_attendance(b):\n",
        "            query = \"INSERT INTO attendance (roll_number, date, status) VALUES (%s, CURDATE(), %s)\"\n",
        "            cursor.execute(query, (roll_input.value, status_dropdown.value))\n",
        "            conn.commit()\n",
        "            with mark_attendance_output:\n",
        "                clear_output()\n",
        "                display(widgets.Label(\"✅ Attendance Marked Successfully!\"))\n",
        "\n",
        "        submit_button.on_click(mark_attendance)\n",
        "        display(roll_input, status_dropdown, submit_button)\n",
        "\n",
        "display(mark_attendance_output)\n"
      ]
    },
    {
      "cell_type": "code",
      "execution_count": null,
      "id": "43c1f042-3796-46d5-9a44-374228a2f014",
      "metadata": {
        "id": "43c1f042-3796-46d5-9a44-374228a2f014",
        "outputId": "715bbb0b-d0e5-43e1-b286-a1a0111f510a",
        "colab": {
          "referenced_widgets": [
            "ab979a6f328a45c18c03ff46490b20af"
          ]
        }
      },
      "outputs": [
        {
          "data": {
            "application/vnd.jupyter.widget-view+json": {
              "model_id": "ab979a6f328a45c18c03ff46490b20af",
              "version_major": 2,
              "version_minor": 0
            },
            "text/plain": [
              "Output()"
            ]
          },
          "metadata": {},
          "output_type": "display_data"
        }
      ],
      "source": [
        "update_student_output = widgets.Output()\n",
        "\n",
        "def show_update_student_page():\n",
        "    with update_student_output:\n",
        "        clear_output()\n",
        "\n",
        "        roll_input = widgets.IntText(placeholder=\"Enter Roll Number\")\n",
        "        name_input = widgets.Text(placeholder=\"Enter New Name\")\n",
        "        class_input = widgets.Text(placeholder=\"Enter New Class\")\n",
        "        submit_button = widgets.Button(description=\"Update Student\")\n",
        "\n",
        "        def update_student(b):\n",
        "            query = \"UPDATE students SET name=%s, class=%s WHERE roll_number=%s\"\n",
        "            cursor.execute(query, (name_input.value, class_input.value, roll_input.value))\n",
        "            conn.commit()\n",
        "            with update_student_output:\n",
        "                clear_output()\n",
        "                display(widgets.Label(\"✅ Student Updated Successfully!\"))\n",
        "\n",
        "        submit_button.on_click(update_student)\n",
        "        display(roll_input, name_input, class_input, submit_button)\n",
        "\n",
        "display(update_student_output)\n"
      ]
    },
    {
      "cell_type": "code",
      "execution_count": null,
      "id": "9d4d115e-6502-4c06-bc5a-66828b546c59",
      "metadata": {
        "id": "9d4d115e-6502-4c06-bc5a-66828b546c59",
        "outputId": "7543ce2d-ade5-4958-c7fe-b603d15ac273",
        "colab": {
          "referenced_widgets": [
            "b350b4f55db84f7780a77f992b871213"
          ]
        }
      },
      "outputs": [
        {
          "data": {
            "application/vnd.jupyter.widget-view+json": {
              "model_id": "b350b4f55db84f7780a77f992b871213",
              "version_major": 2,
              "version_minor": 0
            },
            "text/plain": [
              "Output()"
            ]
          },
          "metadata": {},
          "output_type": "display_data"
        }
      ],
      "source": [
        "delete_student_output = widgets.Output()\n",
        "\n",
        "def show_delete_student_page():\n",
        "    with delete_student_output:\n",
        "        clear_output()\n",
        "\n",
        "        roll_input = widgets.IntText(placeholder=\"Enter Roll Number to Delete\")\n",
        "        submit_button = widgets.Button(description=\"Delete Student\")\n",
        "\n",
        "        def delete_student(b):\n",
        "            query = \"DELETE FROM students WHERE roll_number=%s\"\n",
        "            cursor.execute(query, (roll_input.value,))\n",
        "            conn.commit()\n",
        "            with delete_student_output:\n",
        "                clear_output()\n",
        "                display(widgets.Label(\"✅ Student Deleted Successfully!\"))\n",
        "\n",
        "        submit_button.on_click(delete_student)\n",
        "        display(roll_input, submit_button)\n",
        "\n",
        "display(delete_student_output)\n"
      ]
    },
    {
      "cell_type": "code",
      "execution_count": null,
      "id": "f49cab91-bd94-4ac9-bc16-1a77c5a1080c",
      "metadata": {
        "id": "f49cab91-bd94-4ac9-bc16-1a77c5a1080c",
        "outputId": "e977d3cb-b6a8-4214-8b22-21a66b990e69",
        "colab": {
          "referenced_widgets": [
            "fcd30c647a224fb889cb2d6863f59526"
          ]
        }
      },
      "outputs": [
        {
          "data": {
            "application/vnd.jupyter.widget-view+json": {
              "model_id": "fcd30c647a224fb889cb2d6863f59526",
              "version_major": 2,
              "version_minor": 0
            },
            "text/plain": [
              "Output()"
            ]
          },
          "metadata": {},
          "output_type": "display_data"
        }
      ],
      "source": [
        "view_attendance_output = widgets.Output()\n",
        "\n",
        "def show_view_attendance_page():\n",
        "    with view_attendance_output:\n",
        "        clear_output()\n",
        "\n",
        "        roll_input = widgets.IntText(placeholder=\"Enter Roll Number to View Attendance\")\n",
        "        submit_button = widgets.Button(description=\"View Attendance\")\n",
        "\n",
        "        def view_attendance(b):\n",
        "            query = \"SELECT date, status FROM attendance WHERE roll_number=%s\"\n",
        "            cursor.execute(query, (roll_input.value,))\n",
        "            records = cursor.fetchall()\n",
        "\n",
        "            with view_attendance_output:\n",
        "                clear_output()\n",
        "                if records:\n",
        "                    for record in records:\n",
        "                        display(widgets.Label(f\"📅 Date: {record[0]}, Status: {record[1]}\"))\n",
        "                else:\n",
        "\n",
        "                    display(widgets.Label(\"❌ No attendance records found.\"))\n",
        "\n",
        "        submit_button.on_click(view_attendance)\n",
        "        display(roll_input, submit_button)\n",
        "\n",
        "display(view_attendance_output)\n"
      ]
    },
    {
      "cell_type": "code",
      "execution_count": null,
      "id": "472df2c7-d504-4460-915d-4542462dc17e",
      "metadata": {
        "scrolled": true,
        "id": "472df2c7-d504-4460-915d-4542462dc17e",
        "outputId": "60abf1db-70a8-4eab-c777-9b9ba260d3ed",
        "colab": {
          "referenced_widgets": [
            "189f83cfd1934a2c9d2a1d2e6aa6c628"
          ]
        }
      },
      "outputs": [
        {
          "data": {
            "application/vnd.jupyter.widget-view+json": {
              "model_id": "189f83cfd1934a2c9d2a1d2e6aa6c628",
              "version_major": 2,
              "version_minor": 0
            },
            "text/plain": [
              "Output()"
            ]
          },
          "metadata": {},
          "output_type": "display_data"
        }
      ],
      "source": [
        "delete_attendance_output = widgets.Output()\n",
        "\n",
        "def show_delete_attendance_page():\n",
        "    with delete_attendance_output:\n",
        "        clear_output()\n",
        "\n",
        "        roll_input = widgets.IntText(placeholder=\"Enter Roll Number\")\n",
        "        date_input = widgets.Text(placeholder=\"Enter Date (YYYY-MM-DD)\")\n",
        "        submit_button = widgets.Button(description=\"Delete Attendance\")\n",
        "\n",
        "        def delete_attendance(b):\n",
        "            # Check if the attendance record exists\n",
        "            check_query = \"SELECT * FROM attendance WHERE roll_number=%s AND date=%s\"\n",
        "            cursor.execute(check_query, (roll_input.value, date_input.value))\n",
        "            record = cursor.fetchone()\n",
        "\n",
        "            if record:\n",
        "                # If record exists, proceed with deletion\n",
        "                delete_query = \"DELETE FROM attendance WHERE roll_number=%s AND date=%s\"\n",
        "                cursor.execute(delete_query, (roll_input.value, date_input.value))\n",
        "                conn.commit()\n",
        "                with delete_attendance_output:\n",
        "                    clear_output()\n",
        "                    display(widgets.Label(\"✅ Attendance Deleted Successfully!\"))\n",
        "            else:\n",
        "                # If no matching record found, show error message\n",
        "                with delete_attendance_output:\n",
        "                    clear_output()\n",
        "                    display(widgets.Label(\"❌ No matching attendance record found!\"))\n",
        "\n",
        "        submit_button.on_click(delete_attendance)\n",
        "        display(roll_input, date_input, submit_button)\n",
        "\n",
        "display(delete_attendance_output)\n"
      ]
    },
    {
      "cell_type": "code",
      "execution_count": null,
      "id": "9b495ddd-71b1-4b9c-8a06-1b6e4f593679",
      "metadata": {
        "id": "9b495ddd-71b1-4b9c-8a06-1b6e4f593679",
        "outputId": "2c4fca99-a0f6-4668-996e-60ae487ff436",
        "colab": {
          "referenced_widgets": [
            "b8a93971ce4048ab99c4bde2b45f6cb8"
          ]
        }
      },
      "outputs": [
        {
          "data": {
            "application/vnd.jupyter.widget-view+json": {
              "model_id": "b8a93971ce4048ab99c4bde2b45f6cb8",
              "version_major": 2,
              "version_minor": 0
            },
            "text/plain": [
              "Output()"
            ]
          },
          "metadata": {},
          "output_type": "display_data"
        }
      ],
      "source": [
        "update_attendance_output = widgets.Output()\n",
        "\n",
        "def show_update_attendance_page():\n",
        "    with update_attendance_output:\n",
        "        clear_output()\n",
        "\n",
        "        roll_input = widgets.IntText(placeholder=\"Enter Roll Number\")\n",
        "        date_input = widgets.Text(placeholder=\"Enter Date (YYYY-MM-DD)\")\n",
        "        status_dropdown = widgets.Dropdown(options=[\"Present\", \"Absent\"], description=\"New Status:\")\n",
        "        submit_button = widgets.Button(description=\"Update Attendance\")\n",
        "\n",
        "        def update_attendance(b):\n",
        "            query = \"UPDATE attendance SET status=%s WHERE roll_number=%s AND date=%s\"\n",
        "            cursor.execute(query, (status_dropdown.value, roll_input.value, date_input.value))\n",
        "            conn.commit()\n",
        "            with update_attendance_output:\n",
        "                clear_output()\n",
        "                display(widgets.Label(\"✅ Attendance Updated Successfully!\"))\n",
        "\n",
        "        submit_button.on_click(update_attendance)\n",
        "        display(roll_input, date_input, status_dropdown, submit_button)\n",
        "\n",
        "display(update_attendance_output)\n"
      ]
    },
    {
      "cell_type": "code",
      "execution_count": null,
      "id": "a1d104a6-1d1b-4fdf-b9b2-873da1f0b787",
      "metadata": {
        "scrolled": true,
        "id": "a1d104a6-1d1b-4fdf-b9b2-873da1f0b787",
        "outputId": "600995f5-3ad4-45cc-b990-e22fb72359b8",
        "colab": {
          "referenced_widgets": [
            "cb25e850c10047eba482c8515b1305dd"
          ]
        }
      },
      "outputs": [
        {
          "data": {
            "application/vnd.jupyter.widget-view+json": {
              "model_id": "cb25e850c10047eba482c8515b1305dd",
              "version_major": 2,
              "version_minor": 0
            },
            "text/plain": [
              "Output()"
            ]
          },
          "metadata": {},
          "output_type": "display_data"
        }
      ],
      "source": [
        "import ipywidgets as widgets\n",
        "from IPython.display import display, clear_output\n",
        "\n",
        "dashboard_output = widgets.Output()\n",
        "\n",
        "def show_dashboard():\n",
        "    with dashboard_output:\n",
        "        clear_output()\n",
        "\n",
        "        display(widgets.Label(\"📌 Student Attendance System Dashboard\"))\n",
        "\n",
        "        # Buttons\n",
        "        buttons = [\n",
        "            (\"➕ Add Student\", show_add_student_page),\n",
        "            (\"✏️ Update Student\", show_update_student_page),\n",
        "            (\"❌ Delete Student\", show_delete_student_page),\n",
        "            (\"📝 Mark Attendance\", show_mark_attendance_page),\n",
        "            (\"🔄 Update Attendance\", show_update_attendance_page),\n",
        "            (\"🗑️ Delete Attendance\", show_delete_attendance_page),\n",
        "            (\"📊 View Attendance\", show_view_attendance_page),\n",
        "        ]\n",
        "\n",
        "        for text, function in buttons:\n",
        "            btn = widgets.Button(description=text)\n",
        "            btn.on_click(lambda b, f=function: f())\n",
        "            display(btn)\n",
        "\n",
        "show_dashboard()\n",
        "display(dashboard_output)\n"
      ]
    },
    {
      "cell_type": "code",
      "execution_count": null,
      "id": "5d46103d-ad5a-46ad-a58a-4ea5dc187b58",
      "metadata": {
        "id": "5d46103d-ad5a-46ad-a58a-4ea5dc187b58",
        "outputId": "33536897-12df-43dd-8441-75ea49691156"
      },
      "outputs": [
        {
          "data": {
            "text/markdown": [
              "\n",
              "## 🏁 Conclusion\n",
              "This **Student Attendance System** simplifies attendance management using Python & SQL.\n",
              "\n",
              "## 🔮 Future Enhancements\n",
              "- 📌 **Generate PDF Reports**\n",
              "- 📌 **Student Search & Filtering**\n",
              "- 📌 **Teacher Login System**\n"
            ],
            "text/plain": [
              "<IPython.core.display.Markdown object>"
            ]
          },
          "metadata": {},
          "output_type": "display_data"
        }
      ],
      "source": [
        "conclusion = \"\"\"\n",
        "## 🏁 Conclusion\n",
        "This **Student Attendance System** simplifies attendance management using Python & SQL.\n",
        "\n",
        "## 🔮 Future Enhancements\n",
        "- 📌 **Generate PDF Reports**\n",
        "- 📌 **Student Search & Filtering**\n",
        "- 📌 **Teacher Login System**\n",
        "\"\"\"\n",
        "\n",
        "display(Markdown(conclusion))\n"
      ]
    },
    {
      "cell_type": "code",
      "execution_count": null,
      "id": "54b6aecd-ef89-4b58-b3f9-e6c1c4f8c2d4",
      "metadata": {
        "id": "54b6aecd-ef89-4b58-b3f9-e6c1c4f8c2d4"
      },
      "outputs": [],
      "source": []
    }
  ],
  "metadata": {
    "kernelspec": {
      "display_name": "Python 3 (ipykernel)",
      "language": "python",
      "name": "python3"
    },
    "language_info": {
      "codemirror_mode": {
        "name": "ipython",
        "version": 3
      },
      "file_extension": ".py",
      "mimetype": "text/x-python",
      "name": "python",
      "nbconvert_exporter": "python",
      "pygments_lexer": "ipython3",
      "version": "3.12.8"
    },
    "colab": {
      "provenance": [],
      "include_colab_link": true
    }
  },
  "nbformat": 4,
  "nbformat_minor": 5
}